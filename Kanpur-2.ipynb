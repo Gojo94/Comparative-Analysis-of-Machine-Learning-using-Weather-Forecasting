{
 "cells": [
  {
   "cell_type": "code",
   "execution_count": 1,
   "id": "99a8be74",
   "metadata": {},
   "outputs": [],
   "source": [
    "import numpy as np\n",
    "import pandas as pd\n",
    "from sklearn.preprocessing import StandardScaler\n",
    "from sklearn.model_selection import GridSearchCV\n",
    "from sklearn.ensemble import RandomForestRegressor\n",
    "from sklearn.linear_model import SGDRegressor\n",
    "from sklearn.svm import SVR\n",
    "import plotly.graph_objs as go\n",
    "import plotly.figure_factory as ff"
   ]
  },
  {
   "cell_type": "code",
   "execution_count": 2,
   "id": "6966bed9",
   "metadata": {},
   "outputs": [],
   "source": [
    "# Importing dataset and examining it\n",
    "dataset3 = pd.read_csv(\"kanpur.csv\")"
   ]
  },
  {
   "cell_type": "markdown",
   "id": "248db47a",
   "metadata": {},
   "source": [
    "# Data Cleaning and Exploration"
   ]
  },
  {
   "cell_type": "code",
   "execution_count": 3,
   "id": "62a46073",
   "metadata": {},
   "outputs": [
    {
     "data": {
      "text/html": [
       "<div>\n",
       "<style scoped>\n",
       "    .dataframe tbody tr th:only-of-type {\n",
       "        vertical-align: middle;\n",
       "    }\n",
       "\n",
       "    .dataframe tbody tr th {\n",
       "        vertical-align: top;\n",
       "    }\n",
       "\n",
       "    .dataframe thead th {\n",
       "        text-align: right;\n",
       "    }\n",
       "</style>\n",
       "<table border=\"1\" class=\"dataframe\">\n",
       "  <thead>\n",
       "    <tr style=\"text-align: right;\">\n",
       "      <th></th>\n",
       "      <th>date_time</th>\n",
       "      <th>maxtempC</th>\n",
       "      <th>mintempC</th>\n",
       "      <th>totalSnow_cm</th>\n",
       "      <th>sunHour</th>\n",
       "      <th>uvIndex</th>\n",
       "      <th>uvIndex.1</th>\n",
       "      <th>moon_illumination</th>\n",
       "      <th>moonrise</th>\n",
       "      <th>moonset</th>\n",
       "      <th>sunrise</th>\n",
       "      <th>sunset</th>\n",
       "      <th>DewPointC</th>\n",
       "      <th>FeelsLikeC</th>\n",
       "      <th>HeatIndexC</th>\n",
       "      <th>WindChillC</th>\n",
       "      <th>WindGustKmph</th>\n",
       "      <th>cloudcover</th>\n",
       "      <th>humidity</th>\n",
       "      <th>precipMM</th>\n",
       "      <th>pressure</th>\n",
       "      <th>tempC</th>\n",
       "      <th>visibility</th>\n",
       "      <th>winddirDegree</th>\n",
       "      <th>windspeedKmph</th>\n",
       "    </tr>\n",
       "  </thead>\n",
       "  <tbody>\n",
       "    <tr>\n",
       "      <th>0</th>\n",
       "      <td>2009-01-01 00:00:00</td>\n",
       "      <td>24</td>\n",
       "      <td>10</td>\n",
       "      <td>0.0</td>\n",
       "      <td>8.7</td>\n",
       "      <td>4</td>\n",
       "      <td>1</td>\n",
       "      <td>31</td>\n",
       "      <td>09:56 AM</td>\n",
       "      <td>09:45 PM</td>\n",
       "      <td>06:57 AM</td>\n",
       "      <td>05:28 PM</td>\n",
       "      <td>2</td>\n",
       "      <td>11</td>\n",
       "      <td>12</td>\n",
       "      <td>11</td>\n",
       "      <td>21</td>\n",
       "      <td>17</td>\n",
       "      <td>50</td>\n",
       "      <td>0.0</td>\n",
       "      <td>1015</td>\n",
       "      <td>11</td>\n",
       "      <td>10</td>\n",
       "      <td>320</td>\n",
       "      <td>10</td>\n",
       "    </tr>\n",
       "    <tr>\n",
       "      <th>1</th>\n",
       "      <td>2009-01-01 01:00:00</td>\n",
       "      <td>24</td>\n",
       "      <td>10</td>\n",
       "      <td>0.0</td>\n",
       "      <td>8.7</td>\n",
       "      <td>4</td>\n",
       "      <td>1</td>\n",
       "      <td>31</td>\n",
       "      <td>09:56 AM</td>\n",
       "      <td>09:45 PM</td>\n",
       "      <td>06:57 AM</td>\n",
       "      <td>05:28 PM</td>\n",
       "      <td>3</td>\n",
       "      <td>12</td>\n",
       "      <td>13</td>\n",
       "      <td>12</td>\n",
       "      <td>22</td>\n",
       "      <td>11</td>\n",
       "      <td>52</td>\n",
       "      <td>0.0</td>\n",
       "      <td>1015</td>\n",
       "      <td>11</td>\n",
       "      <td>10</td>\n",
       "      <td>315</td>\n",
       "      <td>11</td>\n",
       "    </tr>\n",
       "    <tr>\n",
       "      <th>2</th>\n",
       "      <td>2009-01-01 02:00:00</td>\n",
       "      <td>24</td>\n",
       "      <td>10</td>\n",
       "      <td>0.0</td>\n",
       "      <td>8.7</td>\n",
       "      <td>4</td>\n",
       "      <td>1</td>\n",
       "      <td>31</td>\n",
       "      <td>09:56 AM</td>\n",
       "      <td>09:45 PM</td>\n",
       "      <td>06:57 AM</td>\n",
       "      <td>05:28 PM</td>\n",
       "      <td>4</td>\n",
       "      <td>12</td>\n",
       "      <td>13</td>\n",
       "      <td>12</td>\n",
       "      <td>23</td>\n",
       "      <td>6</td>\n",
       "      <td>55</td>\n",
       "      <td>0.0</td>\n",
       "      <td>1015</td>\n",
       "      <td>11</td>\n",
       "      <td>10</td>\n",
       "      <td>310</td>\n",
       "      <td>11</td>\n",
       "    </tr>\n",
       "    <tr>\n",
       "      <th>3</th>\n",
       "      <td>2009-01-01 03:00:00</td>\n",
       "      <td>24</td>\n",
       "      <td>10</td>\n",
       "      <td>0.0</td>\n",
       "      <td>8.7</td>\n",
       "      <td>4</td>\n",
       "      <td>1</td>\n",
       "      <td>31</td>\n",
       "      <td>09:56 AM</td>\n",
       "      <td>09:45 PM</td>\n",
       "      <td>06:57 AM</td>\n",
       "      <td>05:28 PM</td>\n",
       "      <td>5</td>\n",
       "      <td>12</td>\n",
       "      <td>13</td>\n",
       "      <td>12</td>\n",
       "      <td>23</td>\n",
       "      <td>0</td>\n",
       "      <td>57</td>\n",
       "      <td>0.0</td>\n",
       "      <td>1015</td>\n",
       "      <td>10</td>\n",
       "      <td>10</td>\n",
       "      <td>304</td>\n",
       "      <td>12</td>\n",
       "    </tr>\n",
       "    <tr>\n",
       "      <th>4</th>\n",
       "      <td>2009-01-01 04:00:00</td>\n",
       "      <td>24</td>\n",
       "      <td>10</td>\n",
       "      <td>0.0</td>\n",
       "      <td>8.7</td>\n",
       "      <td>4</td>\n",
       "      <td>1</td>\n",
       "      <td>31</td>\n",
       "      <td>09:56 AM</td>\n",
       "      <td>09:45 PM</td>\n",
       "      <td>06:57 AM</td>\n",
       "      <td>05:28 PM</td>\n",
       "      <td>5</td>\n",
       "      <td>14</td>\n",
       "      <td>14</td>\n",
       "      <td>14</td>\n",
       "      <td>19</td>\n",
       "      <td>0</td>\n",
       "      <td>54</td>\n",
       "      <td>0.0</td>\n",
       "      <td>1016</td>\n",
       "      <td>11</td>\n",
       "      <td>10</td>\n",
       "      <td>302</td>\n",
       "      <td>11</td>\n",
       "    </tr>\n",
       "  </tbody>\n",
       "</table>\n",
       "</div>"
      ],
      "text/plain": [
       "             date_time  maxtempC  mintempC  totalSnow_cm  sunHour  uvIndex  \\\n",
       "0  2009-01-01 00:00:00        24        10           0.0      8.7        4   \n",
       "1  2009-01-01 01:00:00        24        10           0.0      8.7        4   \n",
       "2  2009-01-01 02:00:00        24        10           0.0      8.7        4   \n",
       "3  2009-01-01 03:00:00        24        10           0.0      8.7        4   \n",
       "4  2009-01-01 04:00:00        24        10           0.0      8.7        4   \n",
       "\n",
       "   uvIndex.1  moon_illumination  moonrise   moonset   sunrise    sunset  \\\n",
       "0          1                 31  09:56 AM  09:45 PM  06:57 AM  05:28 PM   \n",
       "1          1                 31  09:56 AM  09:45 PM  06:57 AM  05:28 PM   \n",
       "2          1                 31  09:56 AM  09:45 PM  06:57 AM  05:28 PM   \n",
       "3          1                 31  09:56 AM  09:45 PM  06:57 AM  05:28 PM   \n",
       "4          1                 31  09:56 AM  09:45 PM  06:57 AM  05:28 PM   \n",
       "\n",
       "   DewPointC  FeelsLikeC  HeatIndexC  WindChillC  WindGustKmph  cloudcover  \\\n",
       "0          2          11          12          11            21          17   \n",
       "1          3          12          13          12            22          11   \n",
       "2          4          12          13          12            23           6   \n",
       "3          5          12          13          12            23           0   \n",
       "4          5          14          14          14            19           0   \n",
       "\n",
       "   humidity  precipMM  pressure  tempC  visibility  winddirDegree  \\\n",
       "0        50       0.0      1015     11          10            320   \n",
       "1        52       0.0      1015     11          10            315   \n",
       "2        55       0.0      1015     11          10            310   \n",
       "3        57       0.0      1015     10          10            304   \n",
       "4        54       0.0      1016     11          10            302   \n",
       "\n",
       "   windspeedKmph  \n",
       "0             10  \n",
       "1             11  \n",
       "2             11  \n",
       "3             12  \n",
       "4             11  "
      ]
     },
     "execution_count": 3,
     "metadata": {},
     "output_type": "execute_result"
    }
   ],
   "source": [
    "pd.set_option('display.max_columns', None) # to make sure you can see all the columns in output window\n",
    "dataset3.head()"
   ]
  },
  {
   "cell_type": "code",
   "execution_count": 4,
   "id": "7daf4fc6",
   "metadata": {},
   "outputs": [
    {
     "name": "stdout",
     "output_type": "stream",
     "text": [
      "(96432, 25)\n",
      "\n",
      "\n",
      "<class 'pandas.core.frame.DataFrame'>\n",
      "RangeIndex: 96432 entries, 0 to 96431\n",
      "Data columns (total 25 columns):\n",
      " #   Column             Non-Null Count  Dtype  \n",
      "---  ------             --------------  -----  \n",
      " 0   date_time          96432 non-null  object \n",
      " 1   maxtempC           96432 non-null  int64  \n",
      " 2   mintempC           96432 non-null  int64  \n",
      " 3   totalSnow_cm       96432 non-null  float64\n",
      " 4   sunHour            96432 non-null  float64\n",
      " 5   uvIndex            96432 non-null  int64  \n",
      " 6   uvIndex.1          96432 non-null  int64  \n",
      " 7   moon_illumination  96432 non-null  int64  \n",
      " 8   moonrise           96432 non-null  object \n",
      " 9   moonset            96432 non-null  object \n",
      " 10  sunrise            96432 non-null  object \n",
      " 11  sunset             96432 non-null  object \n",
      " 12  DewPointC          96432 non-null  int64  \n",
      " 13  FeelsLikeC         96432 non-null  int64  \n",
      " 14  HeatIndexC         96432 non-null  int64  \n",
      " 15  WindChillC         96432 non-null  int64  \n",
      " 16  WindGustKmph       96432 non-null  int64  \n",
      " 17  cloudcover         96432 non-null  int64  \n",
      " 18  humidity           96432 non-null  int64  \n",
      " 19  precipMM           96432 non-null  float64\n",
      " 20  pressure           96432 non-null  int64  \n",
      " 21  tempC              96432 non-null  int64  \n",
      " 22  visibility         96432 non-null  int64  \n",
      " 23  winddirDegree      96432 non-null  int64  \n",
      " 24  windspeedKmph      96432 non-null  int64  \n",
      "dtypes: float64(3), int64(17), object(5)\n",
      "memory usage: 18.4+ MB\n",
      "None\n",
      "\n",
      "\n",
      "                  date_time      maxtempC      mintempC  totalSnow_cm  \\\n",
      "count                 96432  96432.000000  96432.000000       96432.0   \n",
      "unique                96432           NaN           NaN           NaN   \n",
      "top     2009-01-01 00:00:00           NaN           NaN           NaN   \n",
      "freq                      1           NaN           NaN           NaN   \n",
      "mean                    NaN     33.400199     22.374564           0.0   \n",
      "std                     NaN      6.994211      7.635253           0.0   \n",
      "min                     NaN     15.000000      3.000000           0.0   \n",
      "25%                     NaN     28.000000     16.000000           0.0   \n",
      "50%                     NaN     34.000000     24.000000           0.0   \n",
      "75%                     NaN     38.000000     28.000000           0.0   \n",
      "max                     NaN     51.000000     39.000000           0.0   \n",
      "\n",
      "             sunHour       uvIndex     uvIndex.1  moon_illumination  \\\n",
      "count   96432.000000  96432.000000  96432.000000       96432.000000   \n",
      "unique           NaN           NaN           NaN                NaN   \n",
      "top              NaN           NaN           NaN                NaN   \n",
      "freq             NaN           NaN           NaN                NaN   \n",
      "mean       11.037805      6.877053      4.465012          46.094077   \n",
      "std         2.152973      1.551294      3.414374          31.249725   \n",
      "min         4.000000      3.000000      1.000000           0.000000   \n",
      "25%         8.700000      6.000000      1.000000          18.000000   \n",
      "50%        11.600000      7.000000      5.000000          46.000000   \n",
      "75%        13.000000      8.000000      8.000000          73.000000   \n",
      "max        13.900000     11.000000     11.000000         100.000000   \n",
      "\n",
      "           moonrise     moonset   sunrise    sunset     DewPointC  \\\n",
      "count         96432       96432     96432     96432  96432.000000   \n",
      "unique         1349        1334       104       111           NaN   \n",
      "top     No moonrise  No moonset  06:58 AM  05:16 PM           NaN   \n",
      "freq           3264        3264      4272      3696           NaN   \n",
      "mean            NaN         NaN       NaN       NaN     13.230629   \n",
      "std             NaN         NaN       NaN       NaN      8.053778   \n",
      "min             NaN         NaN       NaN       NaN    -14.000000   \n",
      "25%             NaN         NaN       NaN       NaN      7.000000   \n",
      "50%             NaN         NaN       NaN       NaN     12.000000   \n",
      "75%             NaN         NaN       NaN       NaN     21.000000   \n",
      "max             NaN         NaN       NaN       NaN     31.000000   \n",
      "\n",
      "          FeelsLikeC   HeatIndexC    WindChillC  WindGustKmph    cloudcover  \\\n",
      "count   96432.000000  96432.00000  96432.000000  96432.000000  96432.000000   \n",
      "unique           NaN          NaN           NaN           NaN           NaN   \n",
      "top              NaN          NaN           NaN           NaN           NaN   \n",
      "freq             NaN          NaN           NaN           NaN           NaN   \n",
      "mean       30.735783     30.86884     29.088384     14.211766     16.993550   \n",
      "std         9.320398      9.17754      8.051981      6.926605     23.150025   \n",
      "min         4.000000      7.00000      4.000000      0.000000      0.000000   \n",
      "25%        24.000000     25.00000     24.000000      9.000000      0.000000   \n",
      "50%        31.000000     31.00000     29.000000     14.000000      5.000000   \n",
      "75%        38.000000     38.00000     35.000000     18.000000     27.000000   \n",
      "max        65.000000     65.00000     54.000000     75.000000    100.000000   \n",
      "\n",
      "            humidity      precipMM      pressure         tempC    visibility  \\\n",
      "count   96432.000000  96432.000000  96432.000000  96432.000000  96432.000000   \n",
      "unique           NaN           NaN           NaN           NaN           NaN   \n",
      "top              NaN           NaN           NaN           NaN           NaN   \n",
      "freq             NaN           NaN           NaN           NaN           NaN   \n",
      "mean       44.370479      0.037756   1006.217946     27.429577      9.885214   \n",
      "std        22.484991      0.307143      7.593850      8.459575      1.058515   \n",
      "min         2.000000      0.000000    986.000000      0.000000      0.000000   \n",
      "25%        26.000000      0.000000   1000.000000     21.000000     10.000000   \n",
      "50%        42.000000      0.000000   1006.000000     28.000000     10.000000   \n",
      "75%        61.000000      0.000000   1013.000000     33.000000     10.000000   \n",
      "max       100.000000     20.600000   1024.000000     50.000000     20.000000   \n",
      "\n",
      "        winddirDegree  windspeedKmph  \n",
      "count    96432.000000   96432.000000  \n",
      "unique            NaN            NaN  \n",
      "top               NaN            NaN  \n",
      "freq              NaN            NaN  \n",
      "mean       205.537270       9.734092  \n",
      "std        104.369548       4.835331  \n",
      "min          0.000000       0.000000  \n",
      "25%        101.000000       6.000000  \n",
      "50%        240.000000       9.000000  \n",
      "75%        299.000000      12.000000  \n",
      "max        360.000000      47.000000  \n"
     ]
    }
   ],
   "source": [
    "print(dataset3.shape)\n",
    "print(\"\\n\")\n",
    "print(dataset3.info())\n",
    "print(\"\\n\")\n",
    "print(dataset3.describe(include = 'all'))"
   ]
  },
  {
   "cell_type": "markdown",
   "id": "f3f036c4",
   "metadata": {},
   "source": [
    "#### Dealing with 'date_time' column"
   ]
  },
  {
   "cell_type": "code",
   "execution_count": 5,
   "id": "245649f1",
   "metadata": {},
   "outputs": [
    {
     "name": "stdout",
     "output_type": "stream",
     "text": [
      "<class 'pandas.core.frame.DataFrame'>\n",
      "RangeIndex: 96432 entries, 0 to 96431\n",
      "Data columns (total 25 columns):\n",
      " #   Column             Non-Null Count  Dtype         \n",
      "---  ------             --------------  -----         \n",
      " 0   date_time          96432 non-null  datetime64[ns]\n",
      " 1   maxtempC           96432 non-null  int64         \n",
      " 2   mintempC           96432 non-null  int64         \n",
      " 3   totalSnow_cm       96432 non-null  float64       \n",
      " 4   sunHour            96432 non-null  float64       \n",
      " 5   uvIndex            96432 non-null  int64         \n",
      " 6   uvIndex.1          96432 non-null  int64         \n",
      " 7   moon_illumination  96432 non-null  int64         \n",
      " 8   moonrise           96432 non-null  object        \n",
      " 9   moonset            96432 non-null  object        \n",
      " 10  sunrise            96432 non-null  object        \n",
      " 11  sunset             96432 non-null  object        \n",
      " 12  DewPointC          96432 non-null  int64         \n",
      " 13  FeelsLikeC         96432 non-null  int64         \n",
      " 14  HeatIndexC         96432 non-null  int64         \n",
      " 15  WindChillC         96432 non-null  int64         \n",
      " 16  WindGustKmph       96432 non-null  int64         \n",
      " 17  cloudcover         96432 non-null  int64         \n",
      " 18  humidity           96432 non-null  int64         \n",
      " 19  precipMM           96432 non-null  float64       \n",
      " 20  pressure           96432 non-null  int64         \n",
      " 21  tempC              96432 non-null  int64         \n",
      " 22  visibility         96432 non-null  int64         \n",
      " 23  winddirDegree      96432 non-null  int64         \n",
      " 24  windspeedKmph      96432 non-null  int64         \n",
      "dtypes: datetime64[ns](1), float64(3), int64(17), object(4)\n",
      "memory usage: 18.4+ MB\n",
      "None\n",
      "######################################################\n",
      "<class 'pandas.core.frame.DataFrame'>\n",
      "RangeIndex: 96432 entries, 0 to 96431\n",
      "Data columns (total 29 columns):\n",
      " #   Column             Non-Null Count  Dtype         \n",
      "---  ------             --------------  -----         \n",
      " 0   date_time          96432 non-null  datetime64[ns]\n",
      " 1   maxtempC           96432 non-null  int64         \n",
      " 2   mintempC           96432 non-null  int64         \n",
      " 3   totalSnow_cm       96432 non-null  float64       \n",
      " 4   sunHour            96432 non-null  float64       \n",
      " 5   uvIndex            96432 non-null  int64         \n",
      " 6   uvIndex.1          96432 non-null  int64         \n",
      " 7   moon_illumination  96432 non-null  int64         \n",
      " 8   moonrise           96432 non-null  object        \n",
      " 9   moonset            96432 non-null  object        \n",
      " 10  sunrise            96432 non-null  object        \n",
      " 11  sunset             96432 non-null  object        \n",
      " 12  DewPointC          96432 non-null  int64         \n",
      " 13  FeelsLikeC         96432 non-null  int64         \n",
      " 14  HeatIndexC         96432 non-null  int64         \n",
      " 15  WindChillC         96432 non-null  int64         \n",
      " 16  WindGustKmph       96432 non-null  int64         \n",
      " 17  cloudcover         96432 non-null  int64         \n",
      " 18  humidity           96432 non-null  int64         \n",
      " 19  precipMM           96432 non-null  float64       \n",
      " 20  pressure           96432 non-null  int64         \n",
      " 21  tempC              96432 non-null  int64         \n",
      " 22  visibility         96432 non-null  int64         \n",
      " 23  winddirDegree      96432 non-null  int64         \n",
      " 24  windspeedKmph      96432 non-null  int64         \n",
      " 25  yr                 96432 non-null  int64         \n",
      " 26  month              96432 non-null  int64         \n",
      " 27  day                96432 non-null  int64         \n",
      " 28  hour               96432 non-null  int64         \n",
      "dtypes: datetime64[ns](1), float64(3), int64(21), object(4)\n",
      "memory usage: 21.3+ MB\n",
      "None\n",
      "            date_time  maxtempC  mintempC  totalSnow_cm  sunHour  uvIndex  \\\n",
      "0 2009-01-01 00:00:00        24        10           0.0      8.7        4   \n",
      "1 2009-01-01 01:00:00        24        10           0.0      8.7        4   \n",
      "2 2009-01-01 02:00:00        24        10           0.0      8.7        4   \n",
      "3 2009-01-01 03:00:00        24        10           0.0      8.7        4   \n",
      "4 2009-01-01 04:00:00        24        10           0.0      8.7        4   \n",
      "\n",
      "   uvIndex.1  moon_illumination  moonrise   moonset   sunrise    sunset  \\\n",
      "0          1                 31  09:56 AM  09:45 PM  06:57 AM  05:28 PM   \n",
      "1          1                 31  09:56 AM  09:45 PM  06:57 AM  05:28 PM   \n",
      "2          1                 31  09:56 AM  09:45 PM  06:57 AM  05:28 PM   \n",
      "3          1                 31  09:56 AM  09:45 PM  06:57 AM  05:28 PM   \n",
      "4          1                 31  09:56 AM  09:45 PM  06:57 AM  05:28 PM   \n",
      "\n",
      "   DewPointC  FeelsLikeC  HeatIndexC  WindChillC  WindGustKmph  cloudcover  \\\n",
      "0          2          11          12          11            21          17   \n",
      "1          3          12          13          12            22          11   \n",
      "2          4          12          13          12            23           6   \n",
      "3          5          12          13          12            23           0   \n",
      "4          5          14          14          14            19           0   \n",
      "\n",
      "   humidity  precipMM  pressure  tempC  visibility  winddirDegree  \\\n",
      "0        50       0.0      1015     11          10            320   \n",
      "1        52       0.0      1015     11          10            315   \n",
      "2        55       0.0      1015     11          10            310   \n",
      "3        57       0.0      1015     10          10            304   \n",
      "4        54       0.0      1016     11          10            302   \n",
      "\n",
      "   windspeedKmph    yr  month  day  hour  \n",
      "0             10  2009      1    1     0  \n",
      "1             11  2009      1    1     1  \n",
      "2             11  2009      1    1     2  \n",
      "3             12  2009      1    1     3  \n",
      "4             11  2009      1    1     4  \n"
     ]
    }
   ],
   "source": [
    "dataset3['date_time'] = pd.to_datetime(dataset3['date_time'])\n",
    "\n",
    "print(dataset3.info())\n",
    "print(\"######################################################\")\n",
    "dataset3['yr'] = dataset3['date_time'].dt.year\n",
    "dataset3['month'] = dataset3['date_time'].dt.month\n",
    "dataset3['day'] = dataset3['date_time'].dt.day\n",
    "dataset3['hour'] = dataset3['date_time'].dt.hour\n",
    "\n",
    "print(dataset3.info())\n",
    "pd.set_option('display.max_columns', None) # to make sure you can see all the columns in output window\n",
    "print(dataset3.head())"
   ]
  },
  {
   "cell_type": "code",
   "execution_count": 6,
   "id": "ad1973ce",
   "metadata": {},
   "outputs": [
    {
     "name": "stdout",
     "output_type": "stream",
     "text": [
      "<class 'pandas.core.frame.DataFrame'>\n",
      "DatetimeIndex: 96432 entries, 2009-01-01 00:00:00 to 2020-01-01 23:00:00\n",
      "Data columns (total 28 columns):\n",
      " #   Column             Non-Null Count  Dtype  \n",
      "---  ------             --------------  -----  \n",
      " 0   maxtempC           96432 non-null  int64  \n",
      " 1   mintempC           96432 non-null  int64  \n",
      " 2   totalSnow_cm       96432 non-null  float64\n",
      " 3   sunHour            96432 non-null  float64\n",
      " 4   uvIndex            96432 non-null  int64  \n",
      " 5   uvIndex.1          96432 non-null  int64  \n",
      " 6   moon_illumination  96432 non-null  int64  \n",
      " 7   moonrise           96432 non-null  object \n",
      " 8   moonset            96432 non-null  object \n",
      " 9   sunrise            96432 non-null  object \n",
      " 10  sunset             96432 non-null  object \n",
      " 11  DewPointC          96432 non-null  int64  \n",
      " 12  FeelsLikeC         96432 non-null  int64  \n",
      " 13  HeatIndexC         96432 non-null  int64  \n",
      " 14  WindChillC         96432 non-null  int64  \n",
      " 15  WindGustKmph       96432 non-null  int64  \n",
      " 16  cloudcover         96432 non-null  int64  \n",
      " 17  humidity           96432 non-null  int64  \n",
      " 18  precipMM           96432 non-null  float64\n",
      " 19  pressure           96432 non-null  int64  \n",
      " 20  tempC              96432 non-null  int64  \n",
      " 21  visibility         96432 non-null  int64  \n",
      " 22  winddirDegree      96432 non-null  int64  \n",
      " 23  windspeedKmph      96432 non-null  int64  \n",
      " 24  yr                 96432 non-null  int64  \n",
      " 25  month              96432 non-null  int64  \n",
      " 26  day                96432 non-null  int64  \n",
      " 27  hour               96432 non-null  int64  \n",
      "dtypes: float64(3), int64(21), object(4)\n",
      "memory usage: 21.3+ MB\n",
      "None\n",
      "                     maxtempC  mintempC  totalSnow_cm  sunHour  uvIndex  \\\n",
      "date_time                                                                 \n",
      "2009-01-01 00:00:00        24        10           0.0      8.7        4   \n",
      "2009-01-01 01:00:00        24        10           0.0      8.7        4   \n",
      "2009-01-01 02:00:00        24        10           0.0      8.7        4   \n",
      "2009-01-01 03:00:00        24        10           0.0      8.7        4   \n",
      "2009-01-01 04:00:00        24        10           0.0      8.7        4   \n",
      "\n",
      "                     uvIndex.1  moon_illumination  moonrise   moonset  \\\n",
      "date_time                                                               \n",
      "2009-01-01 00:00:00          1                 31  09:56 AM  09:45 PM   \n",
      "2009-01-01 01:00:00          1                 31  09:56 AM  09:45 PM   \n",
      "2009-01-01 02:00:00          1                 31  09:56 AM  09:45 PM   \n",
      "2009-01-01 03:00:00          1                 31  09:56 AM  09:45 PM   \n",
      "2009-01-01 04:00:00          1                 31  09:56 AM  09:45 PM   \n",
      "\n",
      "                      sunrise    sunset  DewPointC  FeelsLikeC  HeatIndexC  \\\n",
      "date_time                                                                    \n",
      "2009-01-01 00:00:00  06:57 AM  05:28 PM          2          11          12   \n",
      "2009-01-01 01:00:00  06:57 AM  05:28 PM          3          12          13   \n",
      "2009-01-01 02:00:00  06:57 AM  05:28 PM          4          12          13   \n",
      "2009-01-01 03:00:00  06:57 AM  05:28 PM          5          12          13   \n",
      "2009-01-01 04:00:00  06:57 AM  05:28 PM          5          14          14   \n",
      "\n",
      "                     WindChillC  WindGustKmph  cloudcover  humidity  precipMM  \\\n",
      "date_time                                                                       \n",
      "2009-01-01 00:00:00          11            21          17        50       0.0   \n",
      "2009-01-01 01:00:00          12            22          11        52       0.0   \n",
      "2009-01-01 02:00:00          12            23           6        55       0.0   \n",
      "2009-01-01 03:00:00          12            23           0        57       0.0   \n",
      "2009-01-01 04:00:00          14            19           0        54       0.0   \n",
      "\n",
      "                     pressure  tempC  visibility  winddirDegree  \\\n",
      "date_time                                                         \n",
      "2009-01-01 00:00:00      1015     11          10            320   \n",
      "2009-01-01 01:00:00      1015     11          10            315   \n",
      "2009-01-01 02:00:00      1015     11          10            310   \n",
      "2009-01-01 03:00:00      1015     10          10            304   \n",
      "2009-01-01 04:00:00      1016     11          10            302   \n",
      "\n",
      "                     windspeedKmph    yr  month  day  hour  \n",
      "date_time                                                   \n",
      "2009-01-01 00:00:00             10  2009      1    1     0  \n",
      "2009-01-01 01:00:00             11  2009      1    1     1  \n",
      "2009-01-01 02:00:00             11  2009      1    1     2  \n",
      "2009-01-01 03:00:00             12  2009      1    1     3  \n",
      "2009-01-01 04:00:00             11  2009      1    1     4  \n",
      "\n",
      "\n",
      "(96432, 28)\n"
     ]
    }
   ],
   "source": [
    "# set the \"date_time\" column as the index\n",
    "dataset3.set_index('date_time', inplace=True)\n",
    "print(dataset3.info())\n",
    "print(dataset3.head())\n",
    "print(\"\\n\")\n",
    "print(dataset3.shape)"
   ]
  },
  {
   "cell_type": "markdown",
   "id": "916a39ca",
   "metadata": {},
   "source": [
    "#### Dropping Unnecessary columns"
   ]
  },
  {
   "cell_type": "code",
   "execution_count": 7,
   "id": "d9295277",
   "metadata": {},
   "outputs": [
    {
     "data": {
      "text/plain": [
       "Index(['maxtempC', 'mintempC', 'totalSnow_cm', 'sunHour', 'uvIndex',\n",
       "       'uvIndex.1', 'moon_illumination', 'moonrise', 'moonset', 'sunrise',\n",
       "       'sunset', 'DewPointC', 'FeelsLikeC', 'HeatIndexC', 'WindChillC',\n",
       "       'WindGustKmph', 'cloudcover', 'humidity', 'precipMM', 'pressure',\n",
       "       'tempC', 'visibility', 'winddirDegree', 'windspeedKmph', 'yr', 'month',\n",
       "       'day', 'hour'],\n",
       "      dtype='object')"
      ]
     },
     "execution_count": 7,
     "metadata": {},
     "output_type": "execute_result"
    }
   ],
   "source": [
    "dataset3.columns"
   ]
  },
  {
   "cell_type": "code",
   "execution_count": 8,
   "id": "eaf6daf8",
   "metadata": {},
   "outputs": [
    {
     "data": {
      "text/plain": [
       "(96432, 23)"
      ]
     },
     "execution_count": 8,
     "metadata": {},
     "output_type": "execute_result"
    }
   ],
   "source": [
    "dataset3.drop(['moonrise', 'moonset', 'sunrise', 'sunset', 'moon_illumination',], axis = 1, inplace = True)\n",
    "dataset3.shape"
   ]
  },
  {
   "cell_type": "code",
   "execution_count": 9,
   "id": "abd03e70",
   "metadata": {},
   "outputs": [
    {
     "data": {
      "text/plain": [
       "Index(['maxtempC', 'mintempC', 'totalSnow_cm', 'sunHour', 'uvIndex',\n",
       "       'uvIndex.1', 'DewPointC', 'FeelsLikeC', 'HeatIndexC', 'WindChillC',\n",
       "       'WindGustKmph', 'cloudcover', 'humidity', 'precipMM', 'pressure',\n",
       "       'tempC', 'visibility', 'winddirDegree', 'windspeedKmph', 'yr', 'month',\n",
       "       'day', 'hour'],\n",
       "      dtype='object')"
      ]
     },
     "execution_count": 9,
     "metadata": {},
     "output_type": "execute_result"
    }
   ],
   "source": [
    "dataset3.columns"
   ]
  },
  {
   "cell_type": "code",
   "execution_count": 10,
   "id": "84c977fa",
   "metadata": {},
   "outputs": [
    {
     "data": {
      "text/plain": [
       "maxtempC         0\n",
       "mintempC         0\n",
       "totalSnow_cm     0\n",
       "sunHour          0\n",
       "uvIndex          0\n",
       "uvIndex.1        0\n",
       "DewPointC        0\n",
       "FeelsLikeC       0\n",
       "HeatIndexC       0\n",
       "WindChillC       0\n",
       "WindGustKmph     0\n",
       "cloudcover       0\n",
       "humidity         0\n",
       "precipMM         0\n",
       "pressure         0\n",
       "tempC            0\n",
       "visibility       0\n",
       "winddirDegree    0\n",
       "windspeedKmph    0\n",
       "yr               0\n",
       "month            0\n",
       "day              0\n",
       "hour             0\n",
       "dtype: int64"
      ]
     },
     "execution_count": 10,
     "metadata": {},
     "output_type": "execute_result"
    }
   ],
   "source": [
    "dataset3.isna().sum()"
   ]
  },
  {
   "cell_type": "markdown",
   "id": "b83d3ee1",
   "metadata": {},
   "source": [
    "#### Dividing dataset into label and feature sets and Normalizing numerical features"
   ]
  },
  {
   "cell_type": "code",
   "execution_count": 11,
   "id": "19fd60c8",
   "metadata": {},
   "outputs": [
    {
     "name": "stdout",
     "output_type": "stream",
     "text": [
      "<class 'pandas.core.frame.DataFrame'>\n",
      "<class 'pandas.core.series.Series'>\n",
      "(96432, 17)\n",
      "(96432,)\n"
     ]
    }
   ],
   "source": [
    "# Dividing dataset into label and feature sets\n",
    "X_unscaled = dataset3.drop(['uvIndex', 'yr', 'month', 'day', 'hour', 'humidity'], axis = 1) # Features\n",
    "Y = dataset3['humidity'] # Labels\n",
    "print(type(X_unscaled))\n",
    "print(type(Y))\n",
    "print(X_unscaled.shape)\n",
    "print(Y.shape)"
   ]
  },
  {
   "cell_type": "code",
   "execution_count": 12,
   "id": "d84ba30d",
   "metadata": {},
   "outputs": [],
   "source": [
    "# Normalizing numerical features so that each feature has mean 0 and variance 1\n",
    "feature_scaler = StandardScaler()\n",
    "X = feature_scaler.fit_transform(X_unscaled)"
   ]
  },
  {
   "cell_type": "markdown",
   "id": "e72cfe3e",
   "metadata": {},
   "source": [
    "#### Model Training"
   ]
  },
  {
   "cell_type": "code",
   "execution_count": 13,
   "id": "a36fa57a",
   "metadata": {},
   "outputs": [],
   "source": [
    "from sklearn.model_selection import train_test_split\n",
    "X_train, X_test, Y_train, Y_test = train_test_split(X, Y, test_size = 0.3, random_state = 20)"
   ]
  },
  {
   "cell_type": "code",
   "execution_count": null,
   "id": "dcbffcde",
   "metadata": {},
   "outputs": [],
   "source": []
  },
  {
   "cell_type": "markdown",
   "id": "4deedc5c",
   "metadata": {},
   "source": [
    "# Running Machine learning algorithms"
   ]
  },
  {
   "cell_type": "markdown",
   "id": "70a1f85b",
   "metadata": {},
   "source": [
    "## Random Forest"
   ]
  },
  {
   "cell_type": "code",
   "execution_count": 14,
   "id": "7e758736",
   "metadata": {},
   "outputs": [
    {
     "name": "stdout",
     "output_type": "stream",
     "text": [
      "Mean Squared Error: 24.32974531275925\n",
      "Root Mean Squared Error: 4.93251916496624\n",
      "Mean Absolute Error: 1.6777833084453293\n",
      "R-squared: 0.9518765625865269\n"
     ]
    }
   ],
   "source": [
    "from sklearn.ensemble import RandomForestRegressor\n",
    "from sklearn.model_selection import TimeSeriesSplit\n",
    "from sklearn.metrics import mean_squared_error, mean_absolute_error, r2_score\n",
    "\n",
    "# define the rolling window size\n",
    "window_size = 30\n",
    "\n",
    "# create the time series split object\n",
    "tscv = TimeSeriesSplit(n_splits=(X.shape[0]-window_size)//1000, test_size=1000)\n",
    "\n",
    "# create the model\n",
    "model = RandomForestRegressor()\n",
    "\n",
    "# initialize arrays to store the predicted and actual values\n",
    "Y_pred = np.zeros_like(Y)\n",
    "Y_test = np.zeros_like(Y)\n",
    "\n",
    "# iterate over each rolling window\n",
    "for train_index, test_index in tscv.split(X):\n",
    "    \n",
    "    # extract the training and test data for this window\n",
    "    X_train, X_test = X[train_index], X[test_index]\n",
    "    Y_train, Y_test = Y[train_index], Y[test_index]\n",
    "    \n",
    "    # fit the model to the training data\n",
    "    model.fit(X_train, Y_train)\n",
    "    \n",
    "    # predict on the test set\n",
    "    Y_pred[test_index] = model.predict(X_test)\n",
    "    \n",
    "# evaluate the performance of the model\n",
    "mse = mean_squared_error(Y, Y_pred)\n",
    "rmse = np.sqrt(mse)\n",
    "mae = mean_absolute_error(Y, Y_pred)\n",
    "r2 = r2_score(Y, Y_pred)\n",
    "\n",
    "print('Mean Squared Error:', mse)\n",
    "print('Root Mean Squared Error:', rmse)\n",
    "print('Mean Absolute Error:', mae)\n",
    "print('R-squared:', r2)\n"
   ]
  },
  {
   "cell_type": "code",
   "execution_count": 15,
   "id": "b6e10048",
   "metadata": {},
   "outputs": [
    {
     "name": "stdout",
     "output_type": "stream",
     "text": [
      "Mean Absolute Percentage Error: 3.945883618058231\n"
     ]
    }
   ],
   "source": [
    "# calculate MAPE\n",
    "mape = np.mean(np.abs((Y - Y_pred) / Y)) * 100\n",
    "\n",
    "print('Mean Absolute Percentage Error:', mape)"
   ]
  },
  {
   "cell_type": "code",
   "execution_count": 17,
   "id": "c86efc41",
   "metadata": {},
   "outputs": [
    {
     "name": "stdout",
     "output_type": "stream",
     "text": [
      "R-squared: 0.9518765625865269\n",
      "Adjusted R-squared: 0.9510434684561511\n"
     ]
    }
   ],
   "source": [
    "n = X_test.shape[0] # number of samples in test set\n",
    "p = X_test.shape[1] # number of predictors in the model\n",
    "r2 = 0.9518765625865269\n",
    "adjusted_r2 = 1 - (1 - r2) * (n - 1) / (n - p - 1)\n",
    "\n",
    "print('R-squared:', r2)\n",
    "print('Adjusted R-squared:', adjusted_r2)"
   ]
  },
  {
   "cell_type": "markdown",
   "id": "3224f287",
   "metadata": {},
   "source": [
    "## XGBoost Regression"
   ]
  },
  {
   "cell_type": "code",
   "execution_count": 18,
   "id": "f7b2a4b0",
   "metadata": {},
   "outputs": [
    {
     "name": "stdout",
     "output_type": "stream",
     "text": [
      "Mean Squared Error: 23.199736601957856\n",
      "Root Mean Squared Error: 4.8166104889183075\n",
      "Mean Absolute Error: 1.6700369172059069\n",
      "R-squared: 0.9541116827150723\n",
      "Mean Absolute Percentage Error: 4.007701316940575\n"
     ]
    }
   ],
   "source": [
    "from sklearn.model_selection import TimeSeriesSplit\n",
    "from xgboost import XGBRegressor\n",
    "\n",
    "# define the rolling window size\n",
    "window_size = 30\n",
    "\n",
    "# create the time series split object\n",
    "tscv = TimeSeriesSplit(n_splits=(X.shape[0]-window_size)//1000, test_size=1000)\n",
    "\n",
    "# create the model\n",
    "model = XGBRegressor()\n",
    "\n",
    "# initialize arrays to store the predicted and actual values\n",
    "Y_pred = np.zeros_like(Y)\n",
    "Y_test = np.zeros_like(Y)\n",
    "\n",
    "# iterate over each rolling window\n",
    "for train_index, test_index in tscv.split(X):\n",
    "    \n",
    "    # extract the training and test data for this window\n",
    "    X_train, X_test = X[train_index], X[test_index]\n",
    "    Y_train, Y_test = Y[train_index], Y[test_index]\n",
    "    \n",
    "    # fit the model to the training data\n",
    "    model.fit(X_train, Y_train)\n",
    "    \n",
    "    # predict on the test set\n",
    "    Y_pred[test_index] = model.predict(X_test)\n",
    "    \n",
    "# evaluate the performance of the model\n",
    "mse = mean_squared_error(Y, Y_pred)\n",
    "rmse = np.sqrt(mse)\n",
    "mae = mean_absolute_error(Y, Y_pred)\n",
    "r2 = r2_score(Y, Y_pred)\n",
    "\n",
    "# calculate MAPE\n",
    "mape = np.mean(np.abs((Y - Y_pred) / Y)) * 100\n",
    "\n",
    "print('Mean Squared Error:', mse)\n",
    "print('Root Mean Squared Error:', rmse)\n",
    "print('Mean Absolute Error:', mae)\n",
    "print('R-squared:', r2)\n",
    "print('Mean Absolute Percentage Error:', mape)"
   ]
  },
  {
   "cell_type": "code",
   "execution_count": 21,
   "id": "477ffa76",
   "metadata": {},
   "outputs": [
    {
     "name": "stdout",
     "output_type": "stream",
     "text": [
      "R-squared: 0.9541116827150723\n",
      "Adjusted R-squared: 0.9533172821103434\n"
     ]
    }
   ],
   "source": [
    "n = X_test.shape[0] # number of samples in test set\n",
    "p = X_test.shape[1] # number of predictors in the model\n",
    "r2 = 0.9541116827150723\n",
    "adjusted_r2 = 1 - (1 - r2) * (n - 1) / (n - p - 1)\n",
    "\n",
    "print('R-squared:', r2)\n",
    "print('Adjusted R-squared:', adjusted_r2)"
   ]
  },
  {
   "cell_type": "markdown",
   "id": "680222e5",
   "metadata": {},
   "source": [
    "## K-Nearest Neighbors regression"
   ]
  },
  {
   "cell_type": "code",
   "execution_count": 20,
   "id": "4dd5466f",
   "metadata": {},
   "outputs": [
    {
     "name": "stdout",
     "output_type": "stream",
     "text": [
      "Mean Squared Error: 65.9424050107848\n",
      "Root Mean Squared Error: 8.120492904423031\n",
      "Mean Absolute Error: 4.863095238095238\n",
      "R-squared: 0.869568087966536\n",
      "Mean Absolute Percentage Error: 11.944470346773297\n"
     ]
    }
   ],
   "source": [
    "from sklearn.neighbors import KNeighborsRegressor\n",
    "from sklearn.model_selection import TimeSeriesSplit\n",
    "from sklearn.metrics import mean_squared_error, mean_absolute_error, r2_score\n",
    "\n",
    "# define the rolling window size\n",
    "window_size = 30\n",
    "\n",
    "# create the time series split object\n",
    "tscv = TimeSeriesSplit(n_splits=(X.shape[0]-window_size)//1000, test_size=1000)\n",
    "\n",
    "# create the model\n",
    "model = KNeighborsRegressor()\n",
    "\n",
    "# initialize arrays to store the predicted and actual values\n",
    "Y_pred = np.zeros_like(Y)\n",
    "Y_test = np.zeros_like(Y)\n",
    "\n",
    "# iterate over each rolling window\n",
    "for train_index, test_index in tscv.split(X):\n",
    "    \n",
    "    # extract the training and test data for this window\n",
    "    X_train, X_test = X[train_index], X[test_index]\n",
    "    Y_train, Y_test = Y[train_index], Y[test_index]\n",
    "    \n",
    "    # fit the model to the training data\n",
    "    model.fit(X_train, Y_train)\n",
    "    \n",
    "    # predict on the test set\n",
    "    Y_pred[test_index] = model.predict(X_test)\n",
    "    \n",
    "# evaluate the performance of the model\n",
    "mse = mean_squared_error(Y, Y_pred)\n",
    "rmse = np.sqrt(mse)\n",
    "mae = mean_absolute_error(Y, Y_pred)\n",
    "r2 = r2_score(Y, Y_pred)\n",
    "\n",
    "# calculate MAPE\n",
    "mape = np.mean(np.abs((Y - Y_pred) / Y)) * 100\n",
    "\n",
    "print('Mean Squared Error:', mse)\n",
    "print('Root Mean Squared Error:', rmse)\n",
    "print('Mean Absolute Error:', mae)\n",
    "print('R-squared:', r2)\n",
    "print('Mean Absolute Percentage Error:', mape)"
   ]
  },
  {
   "cell_type": "code",
   "execution_count": 22,
   "id": "a014276e",
   "metadata": {},
   "outputs": [
    {
     "name": "stdout",
     "output_type": "stream",
     "text": [
      "R-squared: 0.869568087966536\n",
      "Adjusted R-squared: 0.8673101017093374\n"
     ]
    }
   ],
   "source": [
    "n = X_test.shape[0] # number of samples in test set\n",
    "p = X_test.shape[1] # number of predictors in the model\n",
    "r2 = 0.869568087966536\n",
    "adjusted_r2 = 1 - (1 - r2) * (n - 1) / (n - p - 1)\n",
    "\n",
    "print('R-squared:', r2)\n",
    "print('Adjusted R-squared:', adjusted_r2)"
   ]
  },
  {
   "cell_type": "markdown",
   "id": "878e9bc8",
   "metadata": {},
   "source": [
    "## Multilayer Perceptron"
   ]
  },
  {
   "cell_type": "code",
   "execution_count": 25,
   "id": "8dfea7b8",
   "metadata": {},
   "outputs": [
    {
     "name": "stdout",
     "output_type": "stream",
     "text": [
      "Mean Squared Error: 5.9894873428170605\n",
      "Root Mean Squared Error: 2.4473429148399006\n",
      "Mean Absolute Error: 1.416552986884023\n",
      "R-squared: 0.9874084139749414\n",
      "Mean Absolute Percentage Error: 3.55611842398664\n"
     ]
    }
   ],
   "source": [
    "from sklearn.neural_network import MLPRegressor\n",
    "from sklearn.model_selection import TimeSeriesSplit\n",
    "from sklearn.metrics import mean_squared_error, mean_absolute_error, r2_score\n",
    "import numpy as np\n",
    "\n",
    "# define the MLPRegressor with a higher maximum number of iterations\n",
    "model = MLPRegressor(hidden_layer_sizes=(100, 50),\n",
    "                     activation='relu',\n",
    "                     solver='adam',\n",
    "                     max_iter=1000,\n",
    "                     random_state=42)\n",
    "\n",
    "# split the data using time series cross-validation\n",
    "tscv = TimeSeriesSplit(n_splits=5)\n",
    "# mse_list = []\n",
    "# rmse_list = []\n",
    "# mae_list = []\n",
    "# mape_list = []\n",
    "# r2_list = []\n",
    "\n",
    "for train_index, test_index in tscv.split(X):\n",
    "    X_train, X_test = X[train_index], X[test_index]\n",
    "    Y_train, Y_test = Y[train_index], Y[test_index]\n",
    "\n",
    "    # fit the model to the training data\n",
    "    model.fit(X_train, Y_train)\n",
    "\n",
    "    # predict on the test set\n",
    "    Y_pred = model.predict(X_test)\n",
    "\n",
    "# calculate the evaluation metrics\n",
    "mse = mean_squared_error(Y_test, Y_pred)\n",
    "rmse = np.sqrt(mse)\n",
    "mae = mean_absolute_error(Y_test, Y_pred)\n",
    "mape = np.mean(np.abs((Y_test - Y_pred) / Y_test)) * 100\n",
    "r2 = r2_score(Y_test, Y_pred)\n",
    "\n",
    "# mse_list.append(mse)\n",
    "# rmse_list.append(rmse)\n",
    "# mae_list.append(mae)\n",
    "# mape_list.append(mape)\n",
    "# r2_list.append(r2)\n",
    "\n",
    "print('Mean Squared Error:', mse)\n",
    "print('Root Mean Squared Error:', rmse)\n",
    "print('Mean Absolute Error:', mae)\n",
    "print('R-squared:', r2)\n",
    "print('Mean Absolute Percentage Error:', mape)"
   ]
  },
  {
   "cell_type": "code",
   "execution_count": 26,
   "id": "d6a06e7e",
   "metadata": {},
   "outputs": [
    {
     "name": "stdout",
     "output_type": "stream",
     "text": [
      "R-squared: 0.9874084139749414\n",
      "Adjusted R-squared: 0.9873950804155527\n"
     ]
    }
   ],
   "source": [
    "n = X_test.shape[0] # number of samples in test set\n",
    "p = X_test.shape[1] # number of predictors in the model\n",
    "r2 = 0.9874084139749414\n",
    "adjusted_r2 = 1 - (1 - r2) * (n - 1) / (n - p - 1)\n",
    "\n",
    "print('R-squared:', r2)\n",
    "print('Adjusted R-squared:', adjusted_r2)"
   ]
  },
  {
   "cell_type": "markdown",
   "id": "6624e303",
   "metadata": {},
   "source": [
    "## Elastic Net Regression"
   ]
  },
  {
   "cell_type": "code",
   "execution_count": 23,
   "id": "c43b3f7e",
   "metadata": {},
   "outputs": [
    {
     "name": "stdout",
     "output_type": "stream",
     "text": [
      "Mean Squared Error: 43.79513479771057\n",
      "Root Mean Squared Error: 6.617789268155232\n",
      "Mean Absolute Error: 5.060605158011421\n",
      "R-squared: 0.7042806565204585\n"
     ]
    }
   ],
   "source": [
    "from sklearn.linear_model import ElasticNet\n",
    "from sklearn.metrics import mean_squared_error, mean_absolute_error, r2_score\n",
    "from sklearn.model_selection import TimeSeriesSplit\n",
    "\n",
    "# set the train-test split size and random state\n",
    "test_size = 0.3\n",
    "random_state = 20\n",
    "\n",
    "# create a time series split object\n",
    "tscv = TimeSeriesSplit(n_splits=int((1-test_size)*100))\n",
    "\n",
    "# specify the Elastic Net hyperparameters\n",
    "alpha = 0.5\n",
    "l1_ratio = 0.5\n",
    "\n",
    "# create the Elastic Net model\n",
    "model = ElasticNet(alpha=alpha, l1_ratio=l1_ratio)\n",
    "\n",
    "# iterate through the time series splits\n",
    "for train_index, test_index in tscv.split(X):\n",
    "    X_train, X_test = X[train_index], X[test_index]\n",
    "    Y_train, Y_test = Y[train_index], Y[test_index]\n",
    "\n",
    "    # fit the model to the training data\n",
    "    model.fit(X_train, Y_train)\n",
    "\n",
    "    # predict on the test set\n",
    "    Y_pred = model.predict(X_test)\n",
    "\n",
    "# evaluate the performance of the model\n",
    "mse = mean_squared_error(Y_test, Y_pred)\n",
    "rmse = np.sqrt(mse)\n",
    "mae = mean_absolute_error(Y_test, Y_pred)\n",
    "r2 = r2_score(Y_test, Y_pred)\n",
    "    \n",
    "# calculate MAPE\n",
    "# mape = np.mean(np.abs((Y - Y_pred) / Y)) * 100\n",
    "\n",
    "print('Mean Squared Error:', mse)\n",
    "print('Root Mean Squared Error:', rmse)\n",
    "print('Mean Absolute Error:', mae)\n",
    "print('R-squared:', r2)\n",
    "#print('Mean Absolute Percentage Error:', mape)\n"
   ]
  },
  {
   "cell_type": "code",
   "execution_count": 24,
   "id": "e777cf2b",
   "metadata": {},
   "outputs": [
    {
     "name": "stdout",
     "output_type": "stream",
     "text": [
      "R-squared: 0.7042806565204585\n",
      "Adjusted R-squared: 0.7005289932076584\n"
     ]
    }
   ],
   "source": [
    "n = X_test.shape[0] # number of samples in test set\n",
    "p = X_test.shape[1] # number of predictors in the model\n",
    "r2 = 0.7042806565204585\n",
    "adjusted_r2 = 1 - (1 - r2) * (n - 1) / (n - p - 1)\n",
    "\n",
    "print('R-squared:', r2)\n",
    "print('Adjusted R-squared:', adjusted_r2)"
   ]
  }
 ],
 "metadata": {
  "kernelspec": {
   "display_name": "Python 3 (ipykernel)",
   "language": "python",
   "name": "python3"
  },
  "language_info": {
   "codemirror_mode": {
    "name": "ipython",
    "version": 3
   },
   "file_extension": ".py",
   "mimetype": "text/x-python",
   "name": "python",
   "nbconvert_exporter": "python",
   "pygments_lexer": "ipython3",
   "version": "3.9.13"
  }
 },
 "nbformat": 4,
 "nbformat_minor": 5
}
